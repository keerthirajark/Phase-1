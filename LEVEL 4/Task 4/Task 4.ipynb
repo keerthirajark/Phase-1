{
 "cells": [
  {
   "cell_type": "code",
   "execution_count": 2,
   "metadata": {},
   "outputs": [
    {
     "name": "stdout",
     "output_type": "stream",
     "text": [
      "✅ Logging setup complete. Check 'app.log'.\n"
     ]
    }
   ],
   "source": [
    "import logging\n",
    "\n",
    "# Step 2-4: Configure logging to write to \"app.log\" at INFO level\n",
    "logging.basicConfig(\n",
    "    filename=\"app.log\",\n",
    "    level=logging.INFO,\n",
    "    format=\"%(asctime)s - %(levelname)s - %(message)s\"\n",
    ")\n",
    "\n",
    "# Step 5: Log script start\n",
    "logging.info(\"Script started\")\n",
    "\n",
    "# Step 6: Log task completion\n",
    "logging.info(\"Task completed successfully\")\n",
    "\n",
    "print(\"✅ Logging setup complete. Check 'app.log'.\")"
   ]
  }
 ],
 "metadata": {
  "kernelspec": {
   "display_name": "base",
   "language": "python",
   "name": "python3"
  },
  "language_info": {
   "codemirror_mode": {
    "name": "ipython",
    "version": 3
   },
   "file_extension": ".py",
   "mimetype": "text/x-python",
   "name": "python",
   "nbconvert_exporter": "python",
   "pygments_lexer": "ipython3",
   "version": "3.12.7"
  }
 },
 "nbformat": 4,
 "nbformat_minor": 2
}
