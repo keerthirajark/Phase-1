{
 "cells": [
  {
   "cell_type": "code",
   "execution_count": 1,
   "metadata": {},
   "outputs": [
    {
     "name": "stdout",
     "output_type": "stream",
     "text": [
      "Dataset: [ 1  2  3  4  5  6  7  8  9 10 11 12 13 14 15]\n",
      "Mean: 8.00\n",
      "Standard Deviation: 4.32\n",
      "\n",
      "Individual z-scores:\n",
      "Value 1: z = -1.62\n",
      "Value 2: z = -1.39\n",
      "Value 3: z = -1.16\n",
      "Value 4: z = -0.93\n",
      "Value 5: z = -0.69\n",
      "Value 6: z = -0.46\n",
      "Value 7: z = -0.23\n",
      "Value 8: z = 0.00\n",
      "Value 9: z = 0.23\n",
      "Value 10: z = 0.46\n",
      "Value 11: z = 0.69\n",
      "Value 12: z = 0.93\n",
      "Value 13: z = 1.16\n",
      "Value 14: z = 1.39\n",
      "Value 15: z = 1.62\n",
      "\n",
      "No outliers detected at threshold |z| > 3\n",
      "Maximum z-score was 1.62 for value 1\n"
     ]
    }
   ],
   "source": [
    "import numpy as np\n",
    "data = np.array([1, 2, 3, 4, 5, 6, 7, 8, 9, 10, 11, 12, 13, 14, 15])\n",
    "mean = np.mean(data)\n",
    "std_dev = np.std(data, ddof=0)  \n",
    "z_scores = (data - mean) / std_dev\n",
    "threshold = 3\n",
    "outliers = data[np.abs(z_scores) > threshold]\n",
    "print(f\"Dataset: {data}\")\n",
    "print(f\"Mean: {mean:.2f}\")\n",
    "print(f\"Standard Deviation: {std_dev:.2f}\\n\")\n",
    "print(\"Individual z-scores:\")\n",
    "for value, z in zip(data, z_scores):\n",
    "    print(f\"Value {value}: z = {z:.2f}\")\n",
    "if len(outliers) > 0:\n",
    "    print(f\"\\nOutliers detected (|z| > {threshold}): {outliers}\")\n",
    "else:\n",
    "    print(f\"\\nNo outliers detected at threshold |z| > {threshold}\")\n",
    "    print(f\"Maximum z-score was {np.max(np.abs(z_scores)):.2f} for value {data[np.argmax(np.abs(z_scores))]}\")"
   ]
  }
 ],
 "metadata": {
  "kernelspec": {
   "display_name": "base",
   "language": "python",
   "name": "python3"
  },
  "language_info": {
   "codemirror_mode": {
    "name": "ipython",
    "version": 3
   },
   "file_extension": ".py",
   "mimetype": "text/x-python",
   "name": "python",
   "nbconvert_exporter": "python",
   "pygments_lexer": "ipython3",
   "version": "3.12.7"
  }
 },
 "nbformat": 4,
 "nbformat_minor": 2
}
