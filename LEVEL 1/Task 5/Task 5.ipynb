{
 "cells": [
  {
   "cell_type": "code",
   "execution_count": 4,
   "metadata": {},
   "outputs": [
    {
     "name": "stdout",
     "output_type": "stream",
     "text": [
      "Matrix 1:\n",
      " [[1 3]\n",
      " [2 6]]\n",
      "\n",
      "Matrix 2:\n",
      " [[5 9]\n",
      " [7 8]]\n",
      "\n",
      "Result Matrices:\n",
      " [[ 6 12]\n",
      " [ 9 14]]\n"
     ]
    }
   ],
   "source": [
    "import numpy as np\n",
    "matrix1=np.array([[1,3],[2,6]])\n",
    "matrix2=np.array([[5,9],[7,8]])\n",
    "result_matrix = matrix1 + matrix2\n",
    "print(\"Matrix 1:\\n\", matrix1)\n",
    "print(\"\\nMatrix 2:\\n\", matrix2)\n",
    "print(\"\\nResult Matrices:\\n\",result_matrix)"
   ]
  }
 ],
 "metadata": {
  "kernelspec": {
   "display_name": "Python 3",
   "language": "python",
   "name": "python3"
  },
  "language_info": {
   "codemirror_mode": {
    "name": "ipython",
    "version": 3
   },
   "file_extension": ".py",
   "mimetype": "text/x-python",
   "name": "python",
   "nbconvert_exporter": "python",
   "pygments_lexer": "ipython3",
   "version": "3.12.6"
  }
 },
 "nbformat": 4,
 "nbformat_minor": 2
}
