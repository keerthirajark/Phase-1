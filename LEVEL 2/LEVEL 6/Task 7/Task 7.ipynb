{
 "cells": [
  {
   "cell_type": "code",
   "execution_count": 3,
   "metadata": {},
   "outputs": [
    {
     "name": "stdout",
     "output_type": "stream",
     "text": [
      "Dataset: [ 2  3  4  5  6  7  8  9 10 11]\n",
      "Mean: 6.50\n",
      "Standard Deviation: 2.8723\n",
      "\n",
      "Z-scores:\n",
      "Value 2: z = -1.57\n",
      "Value 3: z = -1.22\n",
      "Value 4: z = -0.87\n",
      "Value 5: z = -0.52\n",
      "Value 6: z = -0.17\n",
      "Value 7: z = 0.17\n",
      "Value 8: z = 0.52\n",
      "Value 9: z = 0.87\n",
      "Value 10: z = 1.22\n",
      "Value 11: z = 1.57\n",
      "\n",
      "Interpretation for value 5:\n",
      "The z-score is -0.52, meaning it's 0.52 standard deviations below the mean.\n",
      "This indicates it's slightly lower than average\n"
     ]
    }
   ],
   "source": [
    "import numpy as np\n",
    "data = np.array([2, 3, 4, 5, 6, 7, 8, 9 ,10 ,11])\n",
    "mean = np.mean(data)\n",
    "std_dev = np.std(data, ddof=0)\n",
    "z_scores = (data - mean) / std_dev\n",
    "print(f\"Dataset: {data}\")\n",
    "print(f\"Mean: {mean:.2f}\")\n",
    "print(f\"Standard Deviation: {std_dev:.4f}\\n\")\n",
    "print(\"Z-scores:\")\n",
    "for value, z in zip(data, z_scores):\n",
    "    print(f\"Value {value}: z = {z:.2f}\")\n",
    "x = 5\n",
    "x_z = z_scores[data == x][0]\n",
    "print(f\"\\nInterpretation for value {x}:\")\n",
    "print(f\"The z-score is {x_z:.2f}, meaning it's {abs(x_z):.2f} standard deviations {'above' if x_z > 0 else 'below'} the mean.\")\n",
    "print(\"This indicates it's\", \n",
    "      \"significantly higher than average\" if x_z > 1 else\n",
    "      \"slightly higher than average\" if x_z > 0 else\n",
    "      \"about average\" if x_z == 0 else\n",
    "      \"slightly lower than average\" if x_z > -1 else\n",
    "      \"significantly lower than average\")"
   ]
  }
 ],
 "metadata": {
  "kernelspec": {
   "display_name": "base",
   "language": "python",
   "name": "python3"
  },
  "language_info": {
   "codemirror_mode": {
    "name": "ipython",
    "version": 3
   },
   "file_extension": ".py",
   "mimetype": "text/x-python",
   "name": "python",
   "nbconvert_exporter": "python",
   "pygments_lexer": "ipython3",
   "version": "3.12.7"
  }
 },
 "nbformat": 4,
 "nbformat_minor": 2
}
