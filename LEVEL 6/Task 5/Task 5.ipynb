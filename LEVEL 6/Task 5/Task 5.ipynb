{
 "cells": [
  {
   "cell_type": "code",
   "execution_count": 2,
   "metadata": {},
   "outputs": [
    {
     "name": "stdout",
     "output_type": "stream",
     "text": [
      "Stratified Sample Composition:\n",
      "Department\n",
      "Sales          39\n",
      "Engineering    20\n",
      "Marketing      16\n",
      "Finance        15\n",
      "HR              9\n",
      "Name: count, dtype: int64\n",
      "\n",
      "Simple Random Sample Composition:\n",
      "Department\n",
      "Sales          42\n",
      "Marketing      23\n",
      "Engineering    15\n",
      "Finance        13\n",
      "HR              7\n",
      "Name: count, dtype: int64\n"
     ]
    }
   ],
   "source": [
    "import pandas as pd\n",
    "import numpy as np\n",
    "np.random.seed(42)\n",
    "departments = ['Sales', 'Engineering', 'HR', 'Finance', 'Marketing']\n",
    "department_sizes = {\n",
    "    'Sales': 190, \n",
    "    'Engineering': 95,\n",
    "    'HR': 45,\n",
    "    'Finance': 75,\n",
    "    'Marketing': 80}\n",
    "total_employees = sum(department_sizes.values())\n",
    "employees = []\n",
    "for dept, size in department_sizes.items():\n",
    "    employees.extend([{'Department': dept, 'EmployeeID': f\"{dept[:3]}-{i}\"} \n",
    "                     for i in range(1, size+1)])   \n",
    "df = pd.DataFrame(employees)\n",
    "sample_size = 100\n",
    "samples = []\n",
    "for dept, size in department_sizes.items():\n",
    "    dept_sample_size = int(round(size / total_employees * sample_size))\n",
    "    dept_sample = df[df['Department'] == dept].sample(dept_sample_size, random_state=42)\n",
    "    samples.append(dept_sample)\n",
    "stratified_sample = pd.concat(samples)\n",
    "print(\"Stratified Sample Composition:\")\n",
    "print(stratified_sample['Department'].value_counts())\n",
    "simple_random_sample = df.sample(sample_size, random_state=42)\n",
    "print(\"\\nSimple Random Sample Composition:\")\n",
    "print(simple_random_sample['Department'].value_counts())"
   ]
  }
 ],
 "metadata": {
  "kernelspec": {
   "display_name": "base",
   "language": "python",
   "name": "python3"
  },
  "language_info": {
   "codemirror_mode": {
    "name": "ipython",
    "version": 3
   },
   "file_extension": ".py",
   "mimetype": "text/x-python",
   "name": "python",
   "nbconvert_exporter": "python",
   "pygments_lexer": "ipython3",
   "version": "3.12.7"
  }
 },
 "nbformat": 4,
 "nbformat_minor": 2
}
