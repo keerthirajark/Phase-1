{
 "cells": [
  {
   "cell_type": "code",
   "execution_count": 2,
   "metadata": {},
   "outputs": [
    {
     "name": "stdout",
     "output_type": "stream",
     "text": [
      "First 5 rows of the DataFrame:\n",
      "                   title               author      genre  publication_year  \\\n",
      "0       The Great Gatsby  F. Scott Fitzgerald    Classic              1925   \n",
      "1  To Kill a Mockingbird           Harper Lee    Fiction              1960   \n",
      "2                   1984        George Orwell  Dystopian              1949   \n",
      "3    Pride and Prejudice          Jane Austen    Romance              1813   \n",
      "4             The Hobbit       J.R.R. Tolkien    Fantasy              1937   \n",
      "\n",
      "   pages  price  \n",
      "0    180  12.99  \n",
      "1    281  10.50  \n",
      "2    328   9.99  \n",
      "3    279   8.75  \n",
      "4    310  14.99  \n",
      "\n",
      "\n",
      "DataFrame Information:\n",
      "<class 'pandas.core.frame.DataFrame'>\n",
      "RangeIndex: 7 entries, 0 to 6\n",
      "Data columns (total 6 columns):\n",
      " #   Column            Non-Null Count  Dtype  \n",
      "---  ------            --------------  -----  \n",
      " 0   title             7 non-null      object \n",
      " 1   author            7 non-null      object \n",
      " 2   genre             7 non-null      object \n",
      " 3   publication_year  7 non-null      int64  \n",
      " 4   pages             7 non-null      int64  \n",
      " 5   price             7 non-null      float64\n",
      "dtypes: float64(1), int64(2), object(3)\n",
      "memory usage: 468.0+ bytes\n",
      "None\n"
     ]
    }
   ],
   "source": [
    "import pandas as pd\n",
    "df = pd.read_csv(r'C:\\Users\\Welcome\\OneDrive\\Pictures\\Desktop\\L 1\\Task 4\\Task 4 dataset.txt')\n",
    "print(\"First 5 rows of the DataFrame:\")\n",
    "print(df.head())\n",
    "print(\"\\n\")  \n",
    "\n",
    "print(\"DataFrame Information:\")\n",
    "print(df.info())"
   ]
  }
 ],
 "metadata": {
  "kernelspec": {
   "display_name": "base",
   "language": "python",
   "name": "python3"
  },
  "language_info": {
   "codemirror_mode": {
    "name": "ipython",
    "version": 3
   },
   "file_extension": ".py",
   "mimetype": "text/x-python",
   "name": "python",
   "nbconvert_exporter": "python",
   "pygments_lexer": "ipython3",
   "version": "3.12.7"
  }
 },
 "nbformat": 4,
 "nbformat_minor": 2
}
