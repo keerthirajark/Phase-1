{
 "cells": [
  {
   "cell_type": "code",
   "execution_count": 5,
   "metadata": {},
   "outputs": [
    {
     "name": "stdout",
     "output_type": "stream",
     "text": [
      "[[9, 2], [3, 4]]\n",
      "[[9, 2], [3, 4]]\n",
      "[[8, 2], [3, 4]]\n"
     ]
    }
   ],
   "source": [
    "import copy\n",
    "original = [[8, 2], [3, 4]]\n",
    "deep_copy = copy.deepcopy(original)\n",
    "deep_copy[0][0] = 9 \n",
    "shallow_copy = [sublist[:] for sublist in original] \n",
    "shallow_copy[0][0] = 9 \n",
    "print(deep_copy)     \n",
    "print(shallow_copy) \n",
    "print(original)       "
   ]
  }
 ],
 "metadata": {
  "kernelspec": {
   "display_name": "base",
   "language": "python",
   "name": "python3"
  },
  "language_info": {
   "codemirror_mode": {
    "name": "ipython",
    "version": 3
   },
   "file_extension": ".py",
   "mimetype": "text/x-python",
   "name": "python",
   "nbconvert_exporter": "python",
   "pygments_lexer": "ipython3",
   "version": "3.12.7"
  }
 },
 "nbformat": 4,
 "nbformat_minor": 2
}
