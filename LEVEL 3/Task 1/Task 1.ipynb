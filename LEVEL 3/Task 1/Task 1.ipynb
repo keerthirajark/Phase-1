{
 "cells": [
  {
   "cell_type": "code",
   "execution_count": 3,
   "metadata": {},
   "outputs": [
    {
     "name": "stdout",
     "output_type": "stream",
     "text": [
      "5.0\n",
      "Cannot divide by zero\n"
     ]
    }
   ],
   "source": [
    "def safe_divide(numerator, denominator):\n",
    "    try:\n",
    "        result = numerator / denominator\n",
    "    except ZeroDivisionError:\n",
    "        return \"Cannot divide by zero\"\n",
    "    else:\n",
    "        return result\n",
    "print(safe_divide(10, 2)) \n",
    "print(safe_divide(5, 0))   "
   ]
  }
 ],
 "metadata": {
  "kernelspec": {
   "display_name": "base",
   "language": "python",
   "name": "python3"
  },
  "language_info": {
   "codemirror_mode": {
    "name": "ipython",
    "version": 3
   },
   "file_extension": ".py",
   "mimetype": "text/x-python",
   "name": "python",
   "nbconvert_exporter": "python",
   "pygments_lexer": "ipython3",
   "version": "3.12.7"
  }
 },
 "nbformat": 4,
 "nbformat_minor": 2
}
