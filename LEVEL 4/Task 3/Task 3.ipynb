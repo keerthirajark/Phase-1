{
 "cells": [
  {
   "cell_type": "code",
   "execution_count": 2,
   "metadata": {},
   "outputs": [
    {
     "name": "stdout",
     "output_type": "stream",
     "text": [
      "[1, 2, 3]\n",
      "['A', 'B', 'C']\n",
      "Both threads have finished execution\n"
     ]
    }
   ],
   "source": [
    "import threading\n",
    "import time\n",
    "def numbers():\n",
    "    result = []\n",
    "    for i in [1, 2, 3]:\n",
    "        time.sleep(0.1) \n",
    "        result.append(i)\n",
    "    print(result)\n",
    "def letters():\n",
    "    result = []\n",
    "    for char in [\"A\", \"B\", \"C\"]:\n",
    "        time.sleep(0.1)  \n",
    "        result.append(char)\n",
    "    print(result)\n",
    "t1 = threading.Thread(target=numbers)\n",
    "t2 = threading.Thread(target=letters)\n",
    "t1.start()\n",
    "t2.start()\n",
    "t1.join()\n",
    "t2.join()\n",
    "print(\"Both threads have finished execution\")"
   ]
  }
 ],
 "metadata": {
  "kernelspec": {
   "display_name": "base",
   "language": "python",
   "name": "python3"
  },
  "language_info": {
   "codemirror_mode": {
    "name": "ipython",
    "version": 3
   },
   "file_extension": ".py",
   "mimetype": "text/x-python",
   "name": "python",
   "nbconvert_exporter": "python",
   "pygments_lexer": "ipython3",
   "version": "3.12.7"
  }
 },
 "nbformat": 4,
 "nbformat_minor": 2
}
