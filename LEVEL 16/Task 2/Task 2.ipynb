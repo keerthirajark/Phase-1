{
 "cells": [
  {
   "cell_type": "code",
   "execution_count": 0,
   "metadata": {
    "application/vnd.databricks.v1+cell": {
     "cellMetadata": {
      "byteLimit": 2048000,
      "rowLimit": 10000
     },
     "inputWidgets": {},
     "nuid": "c797469c-0ed3-4473-9dd8-3b4095cd8e6a",
     "showTitle": false,
     "tableResultSettingsMap": {},
     "title": ""
    }
   },
   "outputs": [],
   "source": [
    "import pandas as pd\n",
    "from pyspark.sql import SparkSession\n",
    "spark = SparkSession.builder.appName(\"LazyEvaluationDemo\").getOrCreate()"
   ]
  },
  {
   "cell_type": "code",
   "execution_count": 0,
   "metadata": {
    "application/vnd.databricks.v1+cell": {
     "cellMetadata": {
      "byteLimit": 2048000,
      "rowLimit": 10000
     },
     "inputWidgets": {},
     "nuid": "692828ba-a7dc-4cbf-b4da-a60cd809b16d",
     "showTitle": false,
     "tableResultSettingsMap": {},
     "title": ""
    }
   },
   "outputs": [],
   "source": [
    "pandas_df = pd.DataFrame({\n",
    "    'id': [1, 2, 3, 4, 5],\n",
    "    'name': ['Alice', 'Bob', 'Charlie', 'David', 'Eve'],\n",
    "    'age': [25, 30, 35, 40, 45],\n",
    "    'salary': [50000, 60000, 70000, 80000, 90000]\n",
    "})\n",
    "data = [(1, 'Alice', 25, 50000),\n",
    "        (2, 'Bob', 30, 60000),\n",
    "        (3, 'Charlie', 35, 70000),\n",
    "        (4, 'David', 40, 80000),\n",
    "        (5, 'Eve', 45, 90000)]\n",
    "columns = ['id', 'name', 'age', 'salary']\n",
    "\n",
    "spark_df = spark.createDataFrame(data, columns)"
   ]
  },
  {
   "cell_type": "code",
   "execution_count": 0,
   "metadata": {
    "application/vnd.databricks.v1+cell": {
     "cellMetadata": {
      "byteLimit": 2048000,
      "rowLimit": 10000
     },
     "inputWidgets": {},
     "nuid": "bf37e414-22a2-4d61-8563-b25425b86f9a",
     "showTitle": false,
     "tableResultSettingsMap": {},
     "title": ""
    }
   },
   "outputs": [
    {
     "output_type": "stream",
     "name": "stdout",
     "output_type": "stream",
     "text": [
      "Pandas DataFrame (eager evaluation):\n   id     name  age  salary\n0   1    Alice   25   50000\n1   2      Bob   30   60000\n2   3  Charlie   35   70000\n3   4    David   40   80000\n4   5      Eve   45   90000\n\nNotice the data is immediately displayed - evaluation happens right away.\n"
     ]
    }
   ],
   "source": [
    "print(\"Pandas DataFrame (eager evaluation):\")\n",
    "print(pandas_df)\n",
    "print(\"\\nNotice the data is immediately displayed - evaluation happens right away.\")"
   ]
  },
  {
   "cell_type": "code",
   "execution_count": 0,
   "metadata": {
    "application/vnd.databricks.v1+cell": {
     "cellMetadata": {
      "byteLimit": 2048000,
      "rowLimit": 10000
     },
     "inputWidgets": {},
     "nuid": "90a17e46-1168-4bda-a17b-06f60a235d96",
     "showTitle": false,
     "tableResultSettingsMap": {},
     "title": ""
    }
   },
   "outputs": [
    {
     "output_type": "stream",
     "name": "stdout",
     "output_type": "stream",
     "text": [
      "\nPySpark DataFrame (lazy evaluation):\nDataFrame[id: bigint, name: string, age: bigint, salary: bigint]\n\nNotice you only see the schema - no data processing has happened yet.\n"
     ]
    }
   ],
   "source": [
    "print(\"\\nPySpark DataFrame (lazy evaluation):\")\n",
    "print(spark_df)\n",
    "print(\"\\nNotice you only see the schema - no data processing has happened yet.\")"
   ]
  },
  {
   "cell_type": "code",
   "execution_count": 0,
   "metadata": {
    "application/vnd.databricks.v1+cell": {
     "cellMetadata": {
      "byteLimit": 2048000,
      "rowLimit": 10000
     },
     "inputWidgets": {},
     "nuid": "ca939e9d-94bc-47e9-9280-f65c02baa79a",
     "showTitle": false,
     "tableResultSettingsMap": {},
     "title": ""
    }
   },
   "outputs": [
    {
     "output_type": "stream",
     "name": "stdout",
     "output_type": "stream",
     "text": [
      "\nTriggering execution with collect():\n"
     ]
    },
    {
     "output_type": "display_data",
     "data": {
      "text/html": [
       "<style scoped>\n",
       "  .table-result-container {\n",
       "    max-height: 300px;\n",
       "    overflow: auto;\n",
       "  }\n",
       "  table, th, td {\n",
       "    border: 1px solid black;\n",
       "    border-collapse: collapse;\n",
       "  }\n",
       "  th, td {\n",
       "    padding: 5px;\n",
       "  }\n",
       "  th {\n",
       "    text-align: left;\n",
       "  }\n",
       "</style><div class='table-result-container'><table class='table-result'><thead style='background-color: white'><tr><th>id</th><th>name</th><th>age</th><th>salary</th></tr></thead><tbody><tr><td>1</td><td>Alice</td><td>25</td><td>50000</td></tr><tr><td>2</td><td>Bob</td><td>30</td><td>60000</td></tr><tr><td>3</td><td>Charlie</td><td>35</td><td>70000</td></tr><tr><td>4</td><td>David</td><td>40</td><td>80000</td></tr><tr><td>5</td><td>Eve</td><td>45</td><td>90000</td></tr></tbody></table></div>"
      ]
     },
     "metadata": {
      "application/vnd.databricks.v1+output": {
       "addedWidgets": {},
       "aggData": [],
       "aggError": "",
       "aggOverflow": false,
       "aggSchema": [],
       "aggSeriesLimitReached": false,
       "aggType": "",
       "arguments": {},
       "columnCustomDisplayInfos": {},
       "data": [
        [
         1,
         "Alice",
         25,
         50000
        ],
        [
         2,
         "Bob",
         30,
         60000
        ],
        [
         3,
         "Charlie",
         35,
         70000
        ],
        [
         4,
         "David",
         40,
         80000
        ],
        [
         5,
         "Eve",
         45,
         90000
        ]
       ],
       "datasetInfos": [],
       "dbfsResultPath": null,
       "isJsonSchema": true,
       "metadata": {},
       "overflow": false,
       "plotOptions": {
        "customPlotOptions": {},
        "displayType": "table",
        "pivotAggregation": null,
        "pivotColumns": null,
        "xColumns": null,
        "yColumns": null
       },
       "removedWidgets": [],
       "schema": [
        {
         "metadata": "{}",
         "name": "id",
         "type": "\"long\""
        },
        {
         "metadata": "{}",
         "name": "name",
         "type": "\"string\""
        },
        {
         "metadata": "{}",
         "name": "age",
         "type": "\"long\""
        },
        {
         "metadata": "{}",
         "name": "salary",
         "type": "\"long\""
        }
       ],
       "type": "table"
      }
     },
     "output_type": "display_data"
    },
    {
     "output_type": "stream",
     "name": "stdout",
     "output_type": "stream",
     "text": [
      "\nNow the data is processed and displayed - execution was triggered by collect().\n"
     ]
    }
   ],
   "source": [
    "print(\"\\nTriggering execution with collect():\")\n",
    "display(spark_df.collect())\n",
    "print(\"\\nNow the data is processed and displayed - execution was triggered by collect().\")"
   ]
  },
  {
   "cell_type": "code",
   "execution_count": 0,
   "metadata": {
    "application/vnd.databricks.v1+cell": {
     "cellMetadata": {
      "byteLimit": 2048000,
      "rowLimit": 10000
     },
     "inputWidgets": {},
     "nuid": "401f2ab7-9cea-4d02-86ef-3319347da4b8",
     "showTitle": false,
     "tableResultSettingsMap": {},
     "title": ""
    }
   },
   "outputs": [
    {
     "output_type": "stream",
     "name": "stdout",
     "output_type": "stream",
     "text": [
      "Simple explain mode:\n== Physical Plan ==\nLocalTableScan [id#10485L, name#10486, age#10487L, salary#10488L]\n\n\n== Photon Explanation ==\nPhoton does not fully support the query because:\n\t\tUnsupported node: LocalTableScan [id#10485L, name#10486, age#10487L, salary#10488L].\n\nReference node:\n\tLocalTableScan [id#10485L, name#10486, age#10487L, salary#10488L]\n\n\nExtended explain mode:\n== Parsed Logical Plan ==\nProject [id#10477L AS id#10485L, name#10478 AS name#10486, age#10479L AS age#10487L, salary#10480L AS salary#10488L]\n+- LocalRelation [id#10477L, name#10478, age#10479L, salary#10480L]\n\n== Analyzed Logical Plan ==\nid: bigint, name: string, age: bigint, salary: bigint\nProject [id#10477L AS id#10485L, name#10478 AS name#10486, age#10479L AS age#10487L, salary#10480L AS salary#10488L]\n+- LocalRelation [id#10477L, name#10478, age#10479L, salary#10480L]\n\n== Optimized Logical Plan ==\nLocalRelation [id#10485L, name#10486, age#10487L, salary#10488L]\n\n== Physical Plan ==\nLocalTableScan [id#10485L, name#10486, age#10487L, salary#10488L]\n\n== Photon Explanation ==\nPhoton does not fully support the query because:\n\t\tUnsupported node: LocalTableScan [id#10485L, name#10486, age#10487L, salary#10488L].\n\nReference node:\n\tLocalTableScan [id#10485L, name#10486, age#10487L, salary#10488L]\n\n\nCodegen explain mode:\nFound 0 WholeStageCodegen subtrees.\n\n\nCost explain mode:\n== Optimized Logical Plan ==\nLocalRelation [id#10485L, name#10486, age#10487L, salary#10488L], Statistics(sizeInBytes=260.0 B, rowCount=5, [id#10485L -> ColumnStat(distinctCount: 5, min: N/A, max: N/A, nullCount: 0, avgLen: N/A, maxLen: N/A, histogram: N/A, version: 2), name#10486 -> ColumnStat(distinctCount: 5, min: N/A, max: N/A, nullCount: 0, avgLen: N/A, maxLen: N/A, histogram: N/A, version: 2), age#10487L -> ColumnStat(distinctCount: 5, min: N/A, max: N/A, nullCount: 0, avgLen: N/A, maxLen: N/A, histogram: N/A, version: 2), salary#10488L -> ColumnStat(distinctCount: 5, min: N/A, max: N/A, nullCount: 0, avgLen: N/A, maxLen: N/A, histogram: N/A, version: 2)])\n\n== Physical Plan ==\nLocalTableScan [id#10485L, name#10486, age#10487L, salary#10488L]\n\n\n\nFormatted explain mode:\n== Physical Plan ==\nLocalTableScan (1)\n\n\n(1) LocalTableScan\nOutput [4]: [id#10485L, name#10486, age#10487L, salary#10488L]\nArguments: [id#10485L, name#10486, age#10487L, salary#10488L]\n\n\n== Photon Explanation ==\nPhoton does not fully support the query because:\n\t\tUnsupported node: LocalTableScan [id#10485L, name#10486, age#10487L, salary#10488L].\n\nReference node:\n\tLocalTableScan [id#10485L, name#10486, age#10487L, salary#10488L]\n\n"
     ]
    }
   ],
   "source": [
    "print(\"Simple explain mode:\")\n",
    "spark_df.explain(mode=\"simple\")\n",
    "\n",
    "print(\"\\nExtended explain mode:\")\n",
    "spark_df.explain(mode=\"extended\")\n",
    "\n",
    "print(\"\\nCodegen explain mode:\")\n",
    "spark_df.explain(mode=\"codegen\")\n",
    "\n",
    "print(\"\\nCost explain mode:\")\n",
    "spark_df.explain(mode=\"cost\")\n",
    "\n",
    "print(\"\\nFormatted explain mode:\")\n",
    "spark_df.explain(mode=\"formatted\")"
   ]
  },
  {
   "cell_type": "code",
   "execution_count": 0,
   "metadata": {
    "application/vnd.databricks.v1+cell": {
     "cellMetadata": {
      "byteLimit": 2048000,
      "rowLimit": 10000
     },
     "inputWidgets": {},
     "nuid": "cbdc8f01-d220-4d77-bbac-b9e531ed2ef7",
     "showTitle": false,
     "tableResultSettingsMap": {},
     "title": ""
    }
   },
   "outputs": [
    {
     "output_type": "stream",
     "name": "stdout",
     "output_type": "stream",
     "text": [
      "\nAfter transformations (still no execution):\nDataFrame[name: string, salary: bigint]\n\nExecution plan for transformations:\n== Physical Plan ==\nLocalTableScan [name#10650, salary#10652L]\n\n\n== Photon Explanation ==\nPhoton does not fully support the query because:\n\t\tUnsupported node: LocalTableScan [name#10650, salary#10652L].\n\nReference node:\n\tLocalTableScan [name#10650, salary#10652L]\n\n\nTriggering execution with show():\n+-------+------+\n|   name|salary|\n+-------+------+\n|Charlie| 70000|\n|  David| 80000|\n|    Eve| 90000|\n+-------+------+\n\n"
     ]
    }
   ],
   "source": [
    "transformed_df = spark_df.filter(spark_df.age > 30).select(\"name\", \"salary\")\n",
    "print(\"\\nAfter transformations (still no execution):\")\n",
    "print(transformed_df)\n",
    "print(\"\\nExecution plan for transformations:\")\n",
    "transformed_df.explain()\n",
    "print(\"\\nTriggering execution with show():\")\n",
    "transformed_df.show()"
   ]
  },
  {
   "cell_type": "code",
   "execution_count": 0,
   "metadata": {
    "application/vnd.databricks.v1+cell": {
     "cellMetadata": {},
     "inputWidgets": {},
     "nuid": "92e61287-d068-4f6c-9e59-50089354c193",
     "showTitle": false,
     "tableResultSettingsMap": {},
     "title": ""
    }
   },
   "outputs": [],
   "source": []
  }
 ],
 "metadata": {
  "application/vnd.databricks.v1+notebook": {
   "computePreferences": null,
   "dashboards": [],
   "environmentMetadata": {
    "base_environment": "",
    "environment_version": "2"
   },
   "inputWidgetPreferences": null,
   "language": "python",
   "notebookMetadata": {
    "pythonIndentUnit": 4
   },
   "notebookName": "Untitled Notebook 2025-04-24 10:05:12",
   "widgets": {}
  },
  "language_info": {
   "name": "python"
  }
 },
 "nbformat": 4,
 "nbformat_minor": 0
}