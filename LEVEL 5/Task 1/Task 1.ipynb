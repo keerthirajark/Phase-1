{
 "cells": [
  {
   "cell_type": "code",
   "execution_count": 3,
   "metadata": {},
   "outputs": [
    {
     "name": "stdout",
     "output_type": "stream",
     "text": [
      "Income: 3200, Expenses: 2050, Balance: 1150\n"
     ]
    }
   ],
   "source": [
    "income = {\n",
    "    \"salary\": 2500,\n",
    "    \"freelance\": 500,\n",
    "    \"investments\": 200\n",
    "}\n",
    "expenses = {\n",
    "    \"rent\": 1200,\n",
    "    \"food\": 400,\n",
    "    \"transport\": 150,\n",
    "    \"utilities\": 200,\n",
    "    \"entertainment\": 100\n",
    "}\n",
    "def calculate_total_income(income_dict):\n",
    "    return sum(income_dict.values())\n",
    "def calculate_total_expenses(expenses_dict):\n",
    "    return sum(expenses_dict.values())\n",
    "total_income = calculate_total_income(income)\n",
    "total_expenses = calculate_total_expenses(expenses)\n",
    "balance = total_income - total_expenses\n",
    "print(f\"Income: {total_income}, Expenses: {total_expenses}, Balance: {balance}\")"
   ]
  }
 ],
 "metadata": {
  "kernelspec": {
   "display_name": "base",
   "language": "python",
   "name": "python3"
  },
  "language_info": {
   "codemirror_mode": {
    "name": "ipython",
    "version": 3
   },
   "file_extension": ".py",
   "mimetype": "text/x-python",
   "name": "python",
   "nbconvert_exporter": "python",
   "pygments_lexer": "ipython3",
   "version": "3.12.7"
  }
 },
 "nbformat": 4,
 "nbformat_minor": 2
}
