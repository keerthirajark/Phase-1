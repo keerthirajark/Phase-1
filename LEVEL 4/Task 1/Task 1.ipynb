{
 "cells": [
  {
   "cell_type": "code",
   "execution_count": 1,
   "metadata": {},
   "outputs": [
    {
     "name": "stdout",
     "output_type": "stream",
     "text": [
      "House Price Dataset Summary Statistics:\n",
      "               Price  Bedrooms  Bathrooms   SquareFeet    YearBuilt\n",
      "count       5.000000   5.00000    5.00000     5.000000     5.000000\n",
      "mean   392800.000000   3.20000    2.10000  1940.000000  1998.600000\n",
      "std     80446.876882   0.83666    0.74162   487.852437     9.607289\n",
      "min    295000.000000   2.00000    1.00000  1200.000000  1985.000000\n",
      "25%    350000.000000   3.00000    2.00000  1800.000000  1995.000000\n",
      "50%    389000.000000   3.00000    2.00000  2000.000000  1998.000000\n",
      "75%    420000.000000   4.00000    2.50000  2200.000000  2005.000000\n",
      "max    510000.000000   4.00000    3.00000  2500.000000  2010.000000\n"
     ]
    }
   ],
   "source": [
    "import pandas as pd\n",
    "data = {'Price': [350000, 420000, 389000, 295000, 510000],\n",
    "       'Bedrooms': [3, 4, 3, 2, 4],\n",
    "       'Bathrooms': [2, 2.5, 2, 1, 3],\n",
    "       'SquareFeet': [1800, 2200, 2000, 1200, 2500],\n",
    "       'YearBuilt': [1995, 2005, 1998, 1985, 2010]}\n",
    "df = pd.DataFrame(data)\n",
    "summary = df.describe()\n",
    "print(\"House Price Dataset Summary Statistics:\")\n",
    "print(summary)"
   ]
  }
 ],
 "metadata": {
  "kernelspec": {
   "display_name": "base",
   "language": "python",
   "name": "python3"
  },
  "language_info": {
   "codemirror_mode": {
    "name": "ipython",
    "version": 3
   },
   "file_extension": ".py",
   "mimetype": "text/x-python",
   "name": "python",
   "nbconvert_exporter": "python",
   "pygments_lexer": "ipython3",
   "version": "3.12.7"
  }
 },
 "nbformat": 4,
 "nbformat_minor": 2
}
