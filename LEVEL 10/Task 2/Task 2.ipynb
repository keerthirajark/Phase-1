{
 "cells": [
  {
   "cell_type": "code",
   "execution_count": 3,
   "metadata": {},
   "outputs": [
    {
     "name": "stdout",
     "output_type": "stream",
     "text": [
      "Z-test:\n",
      "Z-statistic: -16.22, P-value: 0.00000\n",
      "\n",
      "T-test:\n",
      "T-statistic: -18.67, P-value: 0.00000\n",
      "\n",
      "Conclusion: There is a significant difference in survival rates between male and female passengers.\n"
     ]
    }
   ],
   "source": [
    "import pandas as pd\n",
    "from statsmodels.stats.proportion import proportions_ztest\n",
    "from scipy.stats import ttest_ind\n",
    "df = pd.read_csv(r\"C:\\Users\\Welcome\\OneDrive\\Pictures\\Desktop\\LEVEL 10\\Task 2\\Titanic-Dataset.csv\")\n",
    "male_survived = df[df[\"Sex\"] == \"male\"][\"Survived\"].sum()\n",
    "female_survived = df[df[\"Sex\"] == \"female\"][\"Survived\"].sum()\n",
    "male_total = df[df[\"Sex\"] == \"male\"][\"Survived\"].count()\n",
    "female_total = df[df[\"Sex\"] == \"female\"][\"Survived\"].count()\n",
    "z_stat, p_value_z = proportions_ztest([male_survived, female_survived], [male_total, female_total])\n",
    "t_stat, p_value_t = ttest_ind(df[df[\"Sex\"] == \"male\"][\"Survived\"], df[df[\"Sex\"] == \"female\"][\"Survived\"], equal_var=False)\n",
    "print(\"Z-test:\")\n",
    "print(f\"Z-statistic: {z_stat:.2f}, P-value: {p_value_z:.5f}\")\n",
    "print(\"\\nT-test:\")\n",
    "print(f\"T-statistic: {t_stat:.2f}, P-value: {p_value_t:.5f}\")\n",
    "if p_value_z < 0.05 and p_value_t < 0.05:\n",
    "    print(\"\\nConclusion: There is a significant difference in survival rates between male and female passengers.\")\n",
    "else:\n",
    "    print(\"\\nConclusion: There is no significant difference in survival rates between male and female passengers.\")\n"
   ]
  }
 ],
 "metadata": {
  "kernelspec": {
   "display_name": "base",
   "language": "python",
   "name": "python3"
  },
  "language_info": {
   "codemirror_mode": {
    "name": "ipython",
    "version": 3
   },
   "file_extension": ".py",
   "mimetype": "text/x-python",
   "name": "python",
   "nbconvert_exporter": "python",
   "pygments_lexer": "ipython3",
   "version": "3.12.7"
  }
 },
 "nbformat": 4,
 "nbformat_minor": 2
}
