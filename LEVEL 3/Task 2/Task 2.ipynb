{
 "cells": [
  {
   "cell_type": "code",
   "execution_count": 1,
   "metadata": {},
   "outputs": [
    {
     "name": "stdout",
     "output_type": "stream",
     "text": [
      "Animal: Generic\n",
      "Some generic animal sound\n",
      "Dog: Buddy\n",
      "Woof\n"
     ]
    }
   ],
   "source": [
    "class Animal:\n",
    "    def __init__(self, name):\n",
    "        self.name = name   \n",
    "    def make_sound(self):\n",
    "        return \"Some generic animal sound\"  \n",
    "    def __str__(self):\n",
    "        return f\"Animal: {self.name}\"\n",
    "class Dog(Animal):\n",
    "    def make_sound(self):\n",
    "        return \"Woof\"\n",
    "    def __str__(self):\n",
    "        return f\"Dog: {self.name}\"\n",
    "if __name__ == \"__main__\":\n",
    "    animal = Animal(\"Generic\")\n",
    "    print(animal)\n",
    "    print(animal.make_sound())\n",
    "    dog = Dog(\"Buddy\")\n",
    "    print(dog) \n",
    "    print(dog.make_sound()) "
   ]
  }
 ],
 "metadata": {
  "kernelspec": {
   "display_name": "base",
   "language": "python",
   "name": "python3"
  },
  "language_info": {
   "codemirror_mode": {
    "name": "ipython",
    "version": 3
   },
   "file_extension": ".py",
   "mimetype": "text/x-python",
   "name": "python",
   "nbconvert_exporter": "python",
   "pygments_lexer": "ipython3",
   "version": "3.12.7"
  }
 },
 "nbformat": 4,
 "nbformat_minor": 2
}
