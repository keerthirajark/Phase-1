{
 "cells": [
  {
   "cell_type": "code",
   "execution_count": 4,
   "metadata": {},
   "outputs": [
    {
     "name": "stdout",
     "output_type": "stream",
     "text": [
      "Percentage of scores above 3.74:\n",
      "Using z-score (z=-0.63): 73.57%\n",
      "Using raw score directly: 73.57%\n",
      "\n",
      "Interpretation:\n",
      "• A score of 3.74 is -0.63 standard deviations above the mean\n",
      "• About 73.6% of values are higher than this\n",
      "• This means it's a fairly common value in the distribution\n"
     ]
    }
   ],
   "source": [
    "from scipy.stats import norm\n",
    "mean = 5\n",
    "std_dev = 2\n",
    "cutoff = 3.74\n",
    "z_score = (cutoff - mean) / std_dev\n",
    "percentage_above = norm.sf(z_score) * 100  \n",
    "percentage_above_raw = norm.sf(cutoff, loc=mean, scale=std_dev) * 100\n",
    "print(f\"Percentage of scores above {cutoff}:\")\n",
    "print(f\"Using z-score (z={z_score:.2f}): {percentage_above:.2f}%\")\n",
    "print(f\"Using raw score directly: {percentage_above_raw:.2f}%\")\n",
    "print(\"\\nInterpretation:\")\n",
    "print(f\"• A score of {cutoff} is {z_score:.2f} standard deviations above the mean\")\n",
    "print(f\"• About {percentage_above:.1f}% of values are higher than this\")\n",
    "print(\"• This means it's a fairly common value in the distribution\")"
   ]
  }
 ],
 "metadata": {
  "kernelspec": {
   "display_name": "base",
   "language": "python",
   "name": "python3"
  },
  "language_info": {
   "codemirror_mode": {
    "name": "ipython",
    "version": 3
   },
   "file_extension": ".py",
   "mimetype": "text/x-python",
   "name": "python",
   "nbconvert_exporter": "python",
   "pygments_lexer": "ipython3",
   "version": "3.12.7"
  }
 },
 "nbformat": 4,
 "nbformat_minor": 2
}
